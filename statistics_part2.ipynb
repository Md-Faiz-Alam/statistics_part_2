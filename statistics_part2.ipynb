{
  "nbformat": 4,
  "nbformat_minor": 0,
  "metadata": {
    "colab": {
      "provenance": []
    },
    "kernelspec": {
      "name": "python3",
      "display_name": "Python 3"
    },
    "language_info": {
      "name": "python"
    }
  },
  "cells": [
    {
      "cell_type": "markdown",
      "source": [
        "---\n",
        "---\n",
        "#Statistics Theoretical Answers :-\n",
        "---\n",
        "---\n",
        "###1. What is hypothesis testing in statistics?\n",
        "\n",
        "Hypothesis testing is a statistical method used to make decisions about a population based on sample data. It involves formulating two competing hypotheses, collecting data, and using statistical tests to determine which hypothesis is more likely to be true.\n",
        "\n",
        "---\n",
        "\n",
        "###2. What is the null hypothesis, and how does it differ from the alternative hypothesis?\n",
        "Null Hypothesis (\n",
        "𝐻\n",
        "0\n",
        " ): The assumption that there is no effect, difference, or relationship in the population. It represents the \"status quo.\"\n",
        "\n",
        "Alternative Hypothesis (\n",
        "𝐻\n",
        "1\n",
        "  or\n",
        "𝐻\n",
        "𝑎\n",
        " ): The assumption that there is an effect, difference, or relationship in the population. It challenges(Ho)\n",
        "\n",
        "---\n",
        "\n",
        "###3. What is the significance level in hypothesis testing, and why is it important?\n",
        "The significance level (\n",
        "𝛼) is the probability of rejecting the null hypothesis when it is actually true (Type I error). Common values are 0.05 (5%) or 0.01 (1%). It helps control the likelihood of making incorrect conclusions.\n",
        "\n",
        "---\n",
        "\n",
        "###4. What does a P-value represent in hypothesis testing?\n",
        "The P-value is the probability of obtaining a test statistic as extreme as, or more extreme than, the observed data, assuming Ho is true.           \n",
        "A small P-value (typically<0.05) suggests strong evidence against H0.\n",
        "\n",
        "A large P-value(>0.05) suggests weak evidence against Ho\n",
        "\n",
        "---\n",
        "\n",
        "###5. How do you interpret the P-value in hypothesis testing?\n",
        "If\n",
        "𝑃\n",
        "<\n",
        "𝛼\n",
        "P<α: Reject\n",
        "𝐻\n",
        "0\n",
        "H\n",
        "0\n",
        "​\n",
        " ; there is significant evidence for\n",
        "𝐻\n",
        "𝑎\n",
        "H\n",
        "a\n",
        "​\n",
        " .\n",
        "If\n",
        "𝑃\n",
        "≥\n",
        "𝛼\n",
        "P≥α: Fail to reject\n",
        "𝐻\n",
        "0\n",
        "H\n",
        "0\n",
        "​\n",
        " ; there is not enough evidence to support\n",
        "𝐻\n",
        "𝑎\n",
        "H\n",
        "a\n",
        "​\n",
        " .\n",
        "\n",
        "Example:\n",
        "If\n",
        "𝑃\n",
        "=\n",
        "0.03\n",
        "P=0.03 and\n",
        "𝛼\n",
        "=\n",
        "0.05\n",
        "α=0.05, we reject\n",
        "𝐻\n",
        "0\n",
        "H\n",
        "0\n",
        "​\n",
        "  and conclude that the effect is statistically significant.\n",
        "\n",
        "---\n",
        "\n",
        "###6. What are Type 1 and Type 2 errors in hypothesis testing?\n",
        "Type I Error (\n",
        "𝛼\n",
        "α): Rejecting\n",
        "𝐻\n",
        "0\n",
        "H\n",
        "0\n",
        "​\n",
        "  when it is true (false positive).\n",
        "Type II Error (\n",
        "𝛽\n",
        "β): Failing to reject\n",
        "𝐻\n",
        "0\n",
        "H\n",
        "0\n",
        "​\n",
        "  when it is false (false negative).\n",
        "\n",
        "Example:\n",
        "\n",
        "Type I: A person is innocent but found guilty.\n",
        "Type II: A person is guilty but found innocent.\n",
        "\n",
        "---\n",
        "\n",
        "###7. What is the difference between a one-tailed and a two-tailed test in hypothesis testing?\n",
        "\n",
        "One-tailed test: Tests if a parameter is either greater than or less than a specific value.\n",
        "\n",
        "Example: Testing if a new drug increases blood pressure.\n",
        "Two-tailed test: Tests if a parameter is different (either greater or lesser) from a specific value.                        \n",
        "Example: Testing if a new drug changes blood pressure in any direction.\n",
        "\n",
        "---\n",
        "\n",
        "###8. What is the Z-test, and when is it used in hypothesis testing?\n",
        "A Z-test is used when:\n",
        "The population variance is known.\n",
        "The sample size is large (\n",
        "𝑛\n",
        "≥\n",
        "30\n",
        "n≥30).\n",
        "\n",
        "Example: Testing if the mean IQ score of a school is different from the national average.\n",
        "\n",
        "---\n",
        "\n",
        "###9. How do you calculate the Z-score, and what does it represent in hypothesis testing?\n",
        "𝑍\n",
        "=\n",
        "𝑋\n",
        "ˉ\n",
        "−\n",
        "𝜇\n",
        "𝜎\n",
        "/\n",
        "𝑛\n",
        "Z=\n",
        "σ/\n",
        "n\n",
        "​\n",
        "\n",
        "X\n",
        "ˉ\n",
        " −μ\n",
        "​\n",
        "\n",
        "where:\n",
        "\n",
        "𝑋\n",
        "ˉ\n",
        "X\n",
        "ˉ\n",
        "  = Sample mean\n",
        "\n",
        "𝜇\n",
        "μ = Population mean\n",
        "\n",
        "𝜎\n",
        "σ = Population standard deviation\n",
        "\n",
        "𝑛\n",
        "n = Sample size\n",
        "\n",
        "The Z-score tells how many standard deviations the sample mean is from the population mean.\n",
        "\n",
        "---\n",
        "\n",
        "###10. What is the T-distribution, and when should it be used instead of the normal distribution?\n",
        "The T-distribution is used when:\n",
        "The sample size is small (\n",
        "𝑛\n",
        "<\n",
        "30\n",
        "n<30).\n",
        "The population variance is unknown.\n",
        "It has heavier tails than the normal distribution, making it more suitable for small samples.\n",
        "\n",
        "---\n",
        "\n",
        "###11. What is the difference between a Z-test and a T-test?\n",
        "\n",
        "| **Feature**            | **Z-test**                  | **T-test**                  |\n",
        "|------------------------|----------------------------|-----------------------------|\n",
        "| **Sample Size**        | Large ( \\( n \\geq 30 \\) ) | Small ( \\( n < 30 \\) )      |\n",
        "| **Population Variance** | Known                      | Unknown                     |\n",
        "| **Distribution Used**   | Normal                     | T-distribution              |\n",
        "\n",
        "---\n",
        "\n",
        "###12. What is the T-test, and how is it used in hypothesis testing?\n",
        "\n",
        "A T-test compares means when the population variance is unknown.            \n",
        "Types: One-sample T-test: Compares sample mean to a known value.         \n",
        "Two-sample T-test: Compares means of two groups (independent or paired).\n",
        "\n",
        "---\n",
        "###13. What is the relationship between Z-test and T-test in hypothesis testing?\n",
        "\n",
        "Both test hypotheses about means, but the T-test is used when the sample is small and the population variance is unknown, whereas the Z-test is used when the sample is large or variance is known.\n",
        "\n",
        "---\n",
        "###14. What is a confidence interval, and how is it used to interpret statistical results?\n",
        "A confidence interval (CI) is a range of values that likely contains the true population parameter.\n",
        "\n",
        "𝐶\n",
        "𝐼\n",
        "=\n",
        "𝑋\n",
        "ˉ\n",
        "±\n",
        "𝑍\n",
        "𝛼\n",
        "/\n",
        "2\n",
        "⋅\n",
        "𝜎\n",
        "𝑛\n",
        "CI=\n",
        "X\n",
        "ˉ\n",
        " ±Z\n",
        "α/2\n",
        "​\n",
        " ⋅\n",
        "n\n",
        "​\n",
        "\n",
        "σ\n",
        "​\n",
        "\n",
        "A 95% CI means that if we repeated the study many times, 95% of the calculated intervals would contain the true mean.\n",
        "\n",
        "---\n",
        "###15. What is the margin of error, and how does it affect the confidence interval?\n",
        "\n",
        "The margin of error (ME) is the maximum expected difference between the sample statistic and the true population parameter. Larger ME means a wider confidence interval, indicating less precision.\n",
        "\n",
        "---\n",
        "###16. How is Bayes' Theorem used in statistics, and what is its significance?\n",
        "Bayes' Theorem updates probabilities based on new evidence. It is essential in Bayesian inference and machine learning.\n",
        "\n",
        "𝑃\n",
        "(\n",
        "𝐴\n",
        "∣\n",
        "𝐵\n",
        ")\n",
        "=\n",
        "𝑃\n",
        "(\n",
        "𝐵\n",
        "∣\n",
        "𝐴\n",
        ")\n",
        "𝑃\n",
        "(\n",
        "𝐴\n",
        ")\n",
        "𝑃\n",
        "(\n",
        "𝐵\n",
        ")\n",
        "P(A∣B)=\n",
        "P(B)\n",
        "P(B∣A)P(A)\n",
        "​\n",
        "\n",
        "Example: Probability of having a disease given a positive test result.\n",
        "\n",
        "---\n",
        "###17. What is the Chi-square distribution, and when is it used?\n",
        "\n",
        "The Chi-square distribution is used for categorical data and hypothesis tests such as:                            \n",
        "Goodness-of-fit test: Whether a sample follows a specific distribution.                                                  \n",
        "Independence test: Whether two categorical variables are related.\n",
        "\n",
        "---\n",
        "###18. What is the Chi-square goodness of fit test, and how is it applied?\n",
        "\n",
        "It tests whether observed categorical data fits an expected distribution.\n",
        "𝜒\n",
        "2\n",
        "=\n",
        "∑\n",
        "(\n",
        "𝑂\n",
        "−\n",
        "𝐸\n",
        ")\n",
        "2\n",
        "𝐸\n",
        "χ\n",
        "2\n",
        " =∑\n",
        "E\n",
        "(O−E)\n",
        "2\n",
        "\n",
        "​\n",
        "\n",
        "where\n",
        "𝑂\n",
        "O = observed values,\n",
        "𝐸\n",
        "E = expected values.\n",
        "\n",
        "---\n",
        "###19. What is the F-distribution, and when is it used in hypothesis testing?           \n",
        "\n",
        "The F-distribution is used in ANOVA and F-tests for comparing variances or multiple group means.\n",
        "\n",
        "---\n",
        "###20. What is an ANOVA test, and what are its assumptions?       \n",
        "\n",
        "ANOVA (Analysis of Variance) tests if three or more group means are different. Assumptions:                      \n",
        "\n",
        "Normality                                                            \n",
        "Homogeneity of variance                                                    \n",
        "Independence                                                   \n",
        "Types: One-way, Two-way, Repeated measures ANOVA.\n",
        "\n",
        "---\n",
        "###21. What are the different types of ANOVA tests?\n",
        "\n",
        "One-Way ANOVA – Compares means of three or more independent groups based on one categorical variable.   \n",
        "\n",
        "Two-Way ANOVA – Compares means based on two independent categorical variables and their interaction.\n",
        "\n",
        "Repeated Measures ANOVA – Compares means within the same group over multiple time points (paired data).\n",
        "\n",
        "Mixed ANOVA – A combination of between-subjects and within-subjects factors (e.g., repeated measures + independent groups).\n",
        "\n",
        "MANOVA (Multivariate ANOVA) – Compares means when there are multiple dependent variables instead of just.\n",
        "\n",
        "---\n",
        "###21. What is the F-test, and how does it relate to hypothesis testing?\n",
        "\n",
        "An F-test compares variances of two populations and is used in ANOVA and regression analysis.\n",
        "\n",
        "---\n",
        "---\n",
        "# Practical Answers :-\n",
        "---\n",
        "---\n",
        "###1. Perform a Z-test for comparing a sample mean to a known population mean\n",
        "\n"
      ],
      "metadata": {
        "id": "PIr4wFHaUUhD"
      }
    },
    {
      "cell_type": "code",
      "source": [
        "import numpy as np\n",
        "from scipy.stats import norm\n",
        "\n",
        "def z_test(sample, pop_mean, pop_std):\n",
        "    n = len(sample)\n",
        "    sample_mean = np.mean(sample)\n",
        "    z_score = (sample_mean - pop_mean) / (pop_std / np.sqrt(n))\n",
        "    p_value = 2 * (1 - norm.cdf(abs(z_score)))  # Two-tailed test\n",
        "\n",
        "    print(f\"Z-score: {z_score:.4f}\")\n",
        "    print(f\"P-value: {p_value:.4f}\")\n",
        "\n",
        "    if p_value < 0.05:\n",
        "        print(\"Reject the null hypothesis: The sample mean is significantly different from the population mean.\")\n",
        "    else:\n",
        "        print(\"Fail to reject the null hypothesis: No significant difference found.\")\n",
        "\n",
        "# Example usage\n",
        "np.random.seed(42)\n",
        "sample_data = np.random.normal(50, 10, 40)  # Sample from normal distribution\n",
        "population_mean = 50\n",
        "population_std = 10\n",
        "z_test(sample_data, population_mean, population_std)"
      ],
      "metadata": {
        "id": "w2v0cIQXk9LH"
      },
      "execution_count": null,
      "outputs": []
    },
    {
      "cell_type": "markdown",
      "source": [
        "###2. Simulate random data and calculate P-value using Python"
      ],
      "metadata": {
        "id": "XZ8qidOgojtz"
      }
    },
    {
      "cell_type": "code",
      "source": [
        "np.random.seed(100)\n",
        "sample = np.random.normal(55, 5, 30)\n",
        "pop_mean = 50\n",
        "pop_std = 5\n",
        "z_test(sample, pop_mean, pop_std)"
      ],
      "metadata": {
        "id": "FNivznJHpLYp"
      },
      "execution_count": null,
      "outputs": []
    },
    {
      "cell_type": "markdown",
      "source": [
        "###3. Implement a one-sample Z-test using Python to compare the sample mean with the population mean"
      ],
      "metadata": {
        "id": "9q18YMcvpOoJ"
      }
    },
    {
      "cell_type": "code",
      "source": [
        "from statsmodels.stats.weightstats import ztest\n",
        "\n",
        "def one_sample_z_test(sample, pop_mean):\n",
        "    z_stat, p_val = ztest(sample, value=pop_mean)\n",
        "    print(f\"Z-statistic: {z_stat:.4f}, P-value: {p_val:.4f}\")\n",
        "\n",
        "    if p_val < 0.05:\n",
        "        print(\"Reject the null hypothesis.\")\n",
        "    else:\n",
        "        print(\"Fail to reject the null hypothesis.\")\n",
        "\n",
        "# Example\n",
        "one_sample_z_test(sample_data, population_mean)"
      ],
      "metadata": {
        "id": "-n4No3DVpafZ"
      },
      "execution_count": null,
      "outputs": []
    },
    {
      "cell_type": "markdown",
      "source": [
        "###4. Perform a two-tailed Z-test using Python and visualize the decision region on a plot"
      ],
      "metadata": {
        "id": "r0kCGXHHpgHx"
      }
    },
    {
      "cell_type": "code",
      "source": [
        "import matplotlib.pyplot as plt\n",
        "import seaborn as sns\n",
        "\n",
        "def visualize_z_test(z_score, alpha=0.05):\n",
        "    x = np.linspace(-4, 4, 1000)\n",
        "    y = norm.pdf(x, 0, 1)\n",
        "\n",
        "    plt.figure(figsize=(8, 5))\n",
        "    sns.lineplot(x=x, y=y, color=\"blue\")\n",
        "\n",
        "    critical_value = norm.ppf(1 - alpha / 2)\n",
        "\n",
        "    plt.fill_between(x, y, where=(x <= -critical_value) | (x >= critical_value), color=\"red\", alpha=0.5)\n",
        "    plt.axvline(z_score, color='black', linestyle='dashed', label=f\"Z-score = {z_score:.2f}\")\n",
        "\n",
        "    plt.title(\"Two-tailed Z-Test Decision Region\")\n",
        "    plt.xlabel(\"Z-score\")\n",
        "    plt.ylabel(\"Probability Density\")\n",
        "    plt.legend()\n",
        "    plt.show()\n",
        "\n",
        "# Example usage\n",
        "z_statistic = (np.mean(sample_data) - population_mean) / (population_std / np.sqrt(len(sample_data)))\n",
        "visualize_z_test(z_statistic)"
      ],
      "metadata": {
        "id": "Fzh8DK2ypnko"
      },
      "execution_count": null,
      "outputs": []
    },
    {
      "cell_type": "markdown",
      "source": [
        "###5. Create a Python function that calculates and visualizes Type 1 and Type 2 errors during hypothesis testing."
      ],
      "metadata": {
        "id": "SshsxHhJpsqo"
      }
    },
    {
      "cell_type": "code",
      "source": [
        "def visualize_type_errors():\n",
        "    x = np.linspace(-4, 4, 1000)\n",
        "    y = norm.pdf(x, 0, 1)\n",
        "\n",
        "    plt.figure(figsize=(8, 5))\n",
        "    sns.lineplot(x=x, y=y, color=\"blue\")\n",
        "\n",
        "    alpha = 0.05\n",
        "    critical_value = norm.ppf(1 - alpha)\n",
        "\n",
        "    plt.fill_between(x, y, where=(x >= critical_value), color=\"red\", alpha=0.5, label=\"Type 1 Error (α)\")\n",
        "    plt.fill_between(x, y, where=(x <= -critical_value), color=\"blue\", alpha=0.5, label=\"Type 2 Error (β)\")\n",
        "\n",
        "    plt.axvline(critical_value, color='black', linestyle='dashed', label=\"Critical Value\")\n",
        "\n",
        "    plt.title(\"Type 1 and Type 2 Errors in Hypothesis Testing\")\n",
        "    plt.xlabel(\"Z-score\")\n",
        "    plt.ylabel(\"Probability Density\")\n",
        "    plt.legend()\n",
        "    plt.show()\n",
        "\n",
        "visualize_type_errors()"
      ],
      "metadata": {
        "id": "FXLGKgMdpyw4"
      },
      "execution_count": null,
      "outputs": []
    },
    {
      "cell_type": "markdown",
      "source": [
        "###6. Write a Python program to perform an independent T-test and interpret the results."
      ],
      "metadata": {
        "id": "PMh84NhFp3lI"
      }
    },
    {
      "cell_type": "code",
      "source": [
        "from scipy.stats import ttest_ind\n",
        "\n",
        "def independent_t_test(sample1, sample2):\n",
        "    t_stat, p_val = ttest_ind(sample1, sample2)\n",
        "    print(f\"T-statistic: {t_stat:.4f}, P-value: {p_val:.4f}\")\n",
        "\n",
        "    if p_val < 0.05:\n",
        "        print(\"Reject the null hypothesis: The means are significantly different.\")\n",
        "    else:\n",
        "        print(\"Fail to reject the null hypothesis.\")\n",
        "\n",
        "# Example usage\n",
        "group1 = np.random.normal(60, 10, 30)\n",
        "group2 = np.random.normal(65, 10, 30)\n",
        "independent_t_test(group1, group2)"
      ],
      "metadata": {
        "id": "sMNZziF_p7pH"
      },
      "execution_count": null,
      "outputs": []
    },
    {
      "cell_type": "markdown",
      "source": [
        "###7. Perform a paired sample T-test using Python and visualize the comparison results."
      ],
      "metadata": {
        "id": "A3n0fSoXqOJP"
      }
    },
    {
      "cell_type": "code",
      "source": [
        "from scipy.stats import ttest_rel\n",
        "\n",
        "def paired_t_test(sample1, sample2):\n",
        "    t_stat, p_val = ttest_rel(sample1, sample2)\n",
        "    print(f\"Paired T-statistic: {t_stat:.4f}, P-value: {p_val:.4f}\")\n",
        "\n",
        "    plt.figure(figsize=(6, 4))\n",
        "    plt.scatter(sample1, sample2, color='blue', alpha=0.5, label=\"Paired Data\")\n",
        "    plt.plot([min(sample1), max(sample1)], [min(sample1), max(sample1)], linestyle=\"--\", color=\"red\")\n",
        "    plt.xlabel(\"Sample 1\")\n",
        "    plt.ylabel(\"Sample 2\")\n",
        "    plt.legend()\n",
        "    plt.title(\"Paired Sample T-Test Visualization\")\n",
        "    plt.show()\n",
        "\n",
        "# Example usage\n",
        "pre_treatment = np.random.normal(70, 5, 20)\n",
        "post_treatment = pre_treatment + np.random.normal(0, 2, 20)\n",
        "paired_t_test(pre_treatment, post_treatment)"
      ],
      "metadata": {
        "id": "LiY28tt8qU0e"
      },
      "execution_count": null,
      "outputs": []
    },
    {
      "cell_type": "markdown",
      "source": [
        "###8. Simulate data and perform both Z-test and T-test, then compare the results using Python."
      ],
      "metadata": {
        "id": "x86BitukqYy2"
      }
    },
    {
      "cell_type": "code",
      "source": [
        "sample_size = 25\n",
        "sample_data_t = np.random.normal(55, 5, sample_size)  # Small sample\n",
        "sample_data_z = np.random.normal(55, 5, 40)  # Large sample\n",
        "\n",
        "print(\"T-test result:\")\n",
        "one_sample_z_test(sample_data_t, population_mean)\n",
        "\n",
        "print(\"\\nZ-test result:\")\n",
        "one_sample_z_test(sample_data_z, population_mean)"
      ],
      "metadata": {
        "id": "7tzQFxQwqdq2"
      },
      "execution_count": null,
      "outputs": []
    },
    {
      "cell_type": "markdown",
      "source": [
        "###9. Write a Python function to calculate the confidence interval for a sample mean and explain its significance."
      ],
      "metadata": {
        "id": "-vycVtuQqi00"
      }
    },
    {
      "cell_type": "code",
      "source": [
        "from scipy.stats import t\n",
        "\n",
        "def confidence_interval(sample, confidence=0.95):\n",
        "    sample_mean = np.mean(sample)\n",
        "    sample_std = np.std(sample, ddof=1)\n",
        "    n = len(sample)\n",
        "\n",
        "    t_critical = t.ppf((1 + confidence) / 2, df=n-1)\n",
        "    margin_of_error = t_critical * (sample_std / np.sqrt(n))\n",
        "\n",
        "    lower_bound = sample_mean - margin_of_error\n",
        "    upper_bound = sample_mean + margin_of_error\n",
        "\n",
        "    print(f\"{confidence*100}% Confidence Interval: ({lower_bound:.2f}, {upper_bound:.2f})\")\n",
        "    print(f\"Margin of Error: {margin_of_error:.2f}\")\n",
        "\n",
        "# Example usage\n",
        "confidence_interval(sample_data_t)"
      ],
      "metadata": {
        "id": "PgMhw9RpqrIF"
      },
      "execution_count": null,
      "outputs": []
    },
    {
      "cell_type": "markdown",
      "source": [
        "###10. Write a Python program to calculate the margin of error for a given confidence level using sample data."
      ],
      "metadata": {
        "id": "_EY_Gd3grECk"
      }
    },
    {
      "cell_type": "code",
      "source": [
        "import numpy as np\n",
        "from scipy.stats import t\n",
        "\n",
        "def margin_of_error(sample, confidence=0.95):\n",
        "    sample_mean = np.mean(sample)\n",
        "    sample_std = np.std(sample, ddof=1)\n",
        "    n = len(sample)\n",
        "\n",
        "    t_critical = t.ppf((1 + confidence) / 2, df=n-1)\n",
        "    moe = t_critical * (sample_std / np.sqrt(n))\n",
        "\n",
        "    print(f\"Margin of Error: {moe:.4f}\")\n",
        "    return moe\n",
        "\n",
        "# Example usage\n",
        "sample_data = np.random.normal(50, 10, 30)\n",
        "margin_of_error(sample_data)"
      ],
      "metadata": {
        "id": "M1B9kKUXrIyv"
      },
      "execution_count": null,
      "outputs": []
    },
    {
      "cell_type": "markdown",
      "source": [
        "###11. Implement a Bayesian inference method using Bayes' Theorem in Python and explain the process."
      ],
      "metadata": {
        "id": "ncB8XhtVk8p8"
      }
    },
    {
      "cell_type": "code",
      "source": [
        "def bayes_theorem(prior_A, likelihood_B_given_A, prior_B):\n",
        "    posterior_A_given_B = (likelihood_B_given_A * prior_A) / prior_B\n",
        "    print(f\"Posterior Probability: {posterior_A_given_B:.4f}\")\n",
        "    return posterior_A_given_B\n",
        "\n",
        "# Example: Probability of having a disease given a positive test\n",
        "prior_disease = 0.01\n",
        "likelihood_positive_given_disease = 0.95\n",
        "prior_positive = 0.05\n",
        "\n",
        "bayes_theorem(prior_disease, likelihood_positive_given_disease, prior_positive)"
      ],
      "metadata": {
        "id": "-ZU15OtLlG-z"
      },
      "execution_count": null,
      "outputs": []
    },
    {
      "cell_type": "markdown",
      "source": [
        "###12. Perform a Chi-square test for independence between two categorical variables in Python."
      ],
      "metadata": {
        "id": "f1KsOJnElP7C"
      }
    },
    {
      "cell_type": "code",
      "source": [
        "import pandas as pd\n",
        "from scipy.stats import chi2_contingency\n",
        "\n",
        "# Example: Gender vs. Preference\n",
        "data = pd.DataFrame([[50, 30], [20, 40]], columns=[\"Like\", \"Dislike\"], index=[\"Male\", \"Female\"])\n",
        "\n",
        "chi2, p, dof, expected = chi2_contingency(data)\n",
        "print(f\"Chi-square statistic: {chi2:.4f}, P-value: {p:.4f}\")"
      ],
      "metadata": {
        "id": "z6grBocGlWC6"
      },
      "execution_count": null,
      "outputs": []
    },
    {
      "cell_type": "markdown",
      "source": [
        "###13. Write a Python program to calculate the expected frequencies for a Chi-square test based on observed data."
      ],
      "metadata": {
        "id": "_J-c7lajlaKS"
      }
    },
    {
      "cell_type": "code",
      "source": [
        "import numpy as np\n",
        "import pandas as pd\n",
        "from scipy.stats import chi2_contingency\n",
        "\n",
        "# Example contingency table (Observed Frequencies)\n",
        "observed = np.array([[50, 30], [20, 40]])  # Rows: [Male, Female], Columns: [Like, Dislike]\n",
        "\n",
        "# Perform Chi-square test\n",
        "chi2_stat, p_val, dof, expected = chi2_contingency(observed)\n",
        "\n",
        "# Convert expected frequencies to a DataFrame\n",
        "expected_df = pd.DataFrame(expected, columns=[\"Like\", \"Dislike\"], index=[\"Male\", \"Female\"])\n",
        "\n",
        "# Display results\n",
        "print(\"Expected Frequencies:\")\n",
        "print(expected_df)"
      ],
      "metadata": {
        "id": "FCvnyWlsljAh"
      },
      "execution_count": null,
      "outputs": []
    },
    {
      "cell_type": "markdown",
      "source": [
        "###14. Perform a goodness-of-fit test using Python to compare the observed data to an expected distribution."
      ],
      "metadata": {
        "id": "NOxnxad8luB5"
      }
    },
    {
      "cell_type": "code",
      "source": [
        "from scipy.stats import chisquare\n",
        "\n",
        "observed = np.array([50, 30, 20])\n",
        "expected = np.array([40, 40, 20])  # Assume equal distribution\n",
        "\n",
        "chi2_stat, p_val = chisquare(observed, expected)\n",
        "print(f\"Chi-square statistic: {chi2_stat:.4f}, P-value: {p_val:.4f}\")"
      ],
      "metadata": {
        "id": "q7aqeHeAl3MQ"
      },
      "execution_count": null,
      "outputs": []
    },
    {
      "cell_type": "markdown",
      "source": [
        "###15. Create a Python script to simulate and visualize the Chi-square distribution and discuss its characteristics."
      ],
      "metadata": {
        "id": "g9sh-8n0l7bY"
      }
    },
    {
      "cell_type": "code",
      "source": [
        "import matplotlib.pyplot as plt\n",
        "import seaborn as sns\n",
        "from scipy.stats import chi2\n",
        "\n",
        "df = 4  # Degrees of freedom\n",
        "x = np.linspace(0, 20, 100)\n",
        "y = chi2.pdf(x, df)\n",
        "\n",
        "plt.figure(figsize=(8, 5))\n",
        "sns.lineplot(x=x, y=y, color=\"blue\")\n",
        "plt.title(\"Chi-Square Distribution (df=4)\")\n",
        "plt.xlabel(\"Chi-square value\")\n",
        "plt.ylabel(\"Density\")\n",
        "plt.show()"
      ],
      "metadata": {
        "id": "_wsAoSSumDsA"
      },
      "execution_count": null,
      "outputs": []
    },
    {
      "cell_type": "markdown",
      "source": [
        "###16. Implement an F-test using Python to compare the variances of two random samples."
      ],
      "metadata": {
        "id": "DLhuCjBMmIKP"
      }
    },
    {
      "cell_type": "code",
      "source": [
        "from scipy.stats import f\n",
        "\n",
        "def f_test(sample1, sample2):\n",
        "    var1, var2 = np.var(sample1, ddof=1), np.var(sample2, ddof=1)\n",
        "    f_stat = var1 / var2\n",
        "    df1, df2 = len(sample1) - 1, len(sample2) - 1\n",
        "    p_value = 1 - f.cdf(f_stat, df1, df2)\n",
        "\n",
        "    print(f\"F-statistic: {f_stat:.4f}, P-value: {p_value:.4f}\")\n",
        "\n",
        "# Example usage\n",
        "group1 = np.random.normal(60, 10, 30)\n",
        "group2 = np.random.normal(65, 15, 30)\n",
        "f_test(group1, group2)"
      ],
      "metadata": {
        "id": "uyCeI_6AmNwo"
      },
      "execution_count": null,
      "outputs": []
    },
    {
      "cell_type": "markdown",
      "source": [
        "###17.  Write a Python program to perform an ANOVA test to compare means between multiple groups and interpret the results."
      ],
      "metadata": {
        "id": "-GsSf8D2mXD_"
      }
    },
    {
      "cell_type": "code",
      "source": [
        "from scipy.stats import f_oneway\n",
        "\n",
        "group1 = np.random.normal(50, 10, 30)\n",
        "group2 = np.random.normal(55, 10, 30)\n",
        "group3 = np.random.normal(60, 10, 30)\n",
        "\n",
        "f_stat, p_val = f_oneway(group1, group2, group3)\n",
        "print(f\"ANOVA F-statistic: {f_stat:.4f}, P-value: {p_val:.4f}\")"
      ],
      "metadata": {
        "id": "nYwchEJemfMP"
      },
      "execution_count": null,
      "outputs": []
    },
    {
      "cell_type": "markdown",
      "source": [
        "###18. Perform a one-way ANOVA test using Python to compare the means of different groups and plot the results."
      ],
      "metadata": {
        "id": "EzyR_DxUmk-e"
      }
    },
    {
      "cell_type": "code",
      "source": [
        "import seaborn as sns\n",
        "\n",
        "data = [group1, group2, group3]\n",
        "plt.figure(figsize=(8, 5))\n",
        "sns.boxplot(data=data)\n",
        "plt.xticks([0, 1, 2], [\"Group 1\", \"Group 2\", \"Group 3\"])\n",
        "plt.title(\"One-Way ANOVA Boxplot\")\n",
        "plt.show()"
      ],
      "metadata": {
        "id": "MQDilUttmsHW"
      },
      "execution_count": null,
      "outputs": []
    },
    {
      "cell_type": "markdown",
      "source": [
        "###19. Write a Python function to check the assumptions (normality, independence, and equal variance) for ANOVA."
      ],
      "metadata": {
        "id": "J0j2S6Lwm53l"
      }
    },
    {
      "cell_type": "code",
      "source": [
        "import numpy as np\n",
        "import pandas as pd\n",
        "import scipy.stats as stats\n",
        "import seaborn as sns\n",
        "import matplotlib.pyplot as plt\n",
        "\n",
        "def check_anova_assumptions(data, group_col, value_col):\n",
        "    \"\"\"\n",
        "    Checks normality, independence, and equal variance assumptions for ANOVA.\n",
        "\n",
        "    Parameters:\n",
        "        data (pd.DataFrame): Data containing group and values.\n",
        "        group_col (str): Column name representing group labels.\n",
        "        value_col (str): Column name representing dependent variable values.\n",
        "\n",
        "    Returns:\n",
        "        None (Prints test results)\n",
        "    \"\"\"\n",
        "    groups = data[group_col].unique()\n",
        "\n",
        "    print(\"\\n🔹 Checking Normality (Shapiro-Wilk Test):\")\n",
        "    for group in groups:\n",
        "        sample = data[data[group_col] == group][value_col]\n",
        "        stat, p = stats.shapiro(sample)\n",
        "        print(f\"  {group}: W-statistic = {stat:.4f}, P-value = {p:.4f}\")\n",
        "        if p > 0.05:\n",
        "            print(\"   ✅ Data is normally distributed (Fail to reject H0)\")\n",
        "        else:\n",
        "            print(\"   ❌ Data is NOT normally distributed (Reject H0)\")\n",
        "\n",
        "    print(\"\\n🔹 Checking Homogeneity of Variance (Levene’s Test):\")\n",
        "    samples = [data[data[group_col] == group][value_col] for group in groups]\n",
        "    stat, p = stats.levene(*samples)\n",
        "    print(f\"  Levene’s Test Statistic = {stat:.4f}, P-value = {p:.4f}\")\n",
        "    if p > 0.05:\n",
        "        print(\"   ✅ Variances are equal (Fail to reject H0)\")\n",
        "    else:\n",
        "        print(\"   ❌ Variances are NOT equal (Reject H0)\")\n",
        "\n",
        "    print(\"\\n🔹 Visualizing Data Distributions:\")\n",
        "    plt.figure(figsize=(10, 6))\n",
        "    sns.boxplot(x=group_col, y=value_col, data=data)\n",
        "    plt.title(\"Boxplot for Homogeneity of Variance Check\")\n",
        "    plt.show()"
      ],
      "metadata": {
        "id": "7JOAsjDhnARN"
      },
      "execution_count": null,
      "outputs": []
    },
    {
      "cell_type": "markdown",
      "source": [
        "###20.Perform a two-way ANOVA test using Python to study the interaction between two factors and visualize the results."
      ],
      "metadata": {
        "id": "XyW66DknnOPc"
      }
    },
    {
      "cell_type": "code",
      "source": [
        "import statsmodels.api as sm\n",
        "from statsmodels.formula.api import ols\n",
        "\n",
        "df = pd.DataFrame({\n",
        "    \"Scores\": np.concatenate([group1, group2, group3]),\n",
        "    \"Group\": np.repeat([\"A\", \"B\", \"C\"], 30),\n",
        "    \"Factor\": np.tile([\"X\", \"Y\"], 45)  # Random categorical factor\n",
        "})\n",
        "\n",
        "model = ols(\"Scores ~ C(Group) + C(Factor) + C(Group):C(Factor)\", data=df).fit()\n",
        "anova_table = sm.stats.anova_lm(model, typ=2)\n",
        "print(anova_table)"
      ],
      "metadata": {
        "id": "jE942DoWnWeU"
      },
      "execution_count": null,
      "outputs": []
    },
    {
      "cell_type": "markdown",
      "source": [
        "###21. Write a Python program to visualize the F-distribution and discuss its use in hypothesis testing."
      ],
      "metadata": {
        "id": "1eZDYSsAndz7"
      }
    },
    {
      "cell_type": "code",
      "source": [
        "x = np.linspace(0, 5, 100)\n",
        "y = f.pdf(x, 5, 2)\n",
        "\n",
        "plt.figure(figsize=(8, 5))\n",
        "sns.lineplot(x=x, y=y, color=\"blue\")\n",
        "plt.title(\"F-Distribution\")\n",
        "plt.xlabel(\"F-value\")\n",
        "plt.ylabel(\"Density\")\n",
        "plt.show()"
      ],
      "metadata": {
        "id": "FuLH0648nmZ7"
      },
      "execution_count": null,
      "outputs": []
    },
    {
      "cell_type": "markdown",
      "source": [
        "###22. Perform a one-way ANOVA test in Python and visualize the results with boxplots to compare group means."
      ],
      "metadata": {
        "id": "6Z4ENefvnssD"
      }
    },
    {
      "cell_type": "code",
      "source": [
        "sns.boxplot(data=[group1, group2, group3])\n",
        "plt.xticks([0, 1, 2], [\"Group 1\", \"Group 2\", \"Group 3\"])\n",
        "plt.title(\"Boxplots for ANOVA\")\n",
        "plt.show()"
      ],
      "metadata": {
        "id": "E5fLCeb3nzz6"
      },
      "execution_count": null,
      "outputs": []
    },
    {
      "cell_type": "markdown",
      "source": [
        "###23. Simulate random data from a normal distribution, then perform hypothesis testing to evaluate the means."
      ],
      "metadata": {
        "id": "DbG-h4WCn6wy"
      }
    },
    {
      "cell_type": "code",
      "source": [
        "import numpy as np\n",
        "import scipy.stats as stats\n",
        "import matplotlib.pyplot as plt\n",
        "import seaborn as sns\n",
        "\n",
        "# Step 1: Simulate Random Data (Normal Distribution)\n",
        "np.random.seed(42)  # For reproducibility\n",
        "group_A = np.random.normal(loc=50, scale=10, size=30)  # Mean=50, Std=10\n",
        "group_B = np.random.normal(loc=52, scale=10, size=30)  # Mean=52, Std=10\n",
        "\n",
        "# Step 2: Perform an Independent T-test\n",
        "t_stat, p_value = stats.ttest_ind(group_A, group_B)\n",
        "\n",
        "# Step 3: Display Results\n",
        "print(\"\\n🔹 Hypothesis Testing Results (Independent T-test)\")\n",
        "print(f\"T-statistic: {t_stat:.4f}\")\n",
        "print(f\"P-value: {p_value:.4f}\")\n",
        "\n",
        "alpha = 0.05  # Significance level\n",
        "if p_value < alpha:\n",
        "    print(\"❌ Reject the Null Hypothesis (Significant Difference)\")\n",
        "else:\n",
        "    print(\"✅ Fail to Reject the Null Hypothesis (No Significant Difference)\")\n",
        "\n",
        "# Step 4: Visualization\n",
        "plt.figure(figsize=(10, 6))\n",
        "sns.histplot(group_A, kde=True, color=\"blue\", label=\"Group A\", alpha=0.6)\n",
        "sns.histplot(group_B, kde=True, color=\"red\", label=\"Group B\", alpha=0.6)\n",
        "plt.axvline(np.mean(group_A), color=\"blue\", linestyle=\"dashed\", linewidth=2, label=\"Mean A\")\n",
        "plt.axvline(np.mean(group_B), color=\"red\", linestyle=\"dashed\", linewidth=2, label=\"Mean B\")\n",
        "plt.legend()\n",
        "plt.title(\"Distribution of Group A and B\")\n",
        "plt.show()"
      ],
      "metadata": {
        "id": "NWRkyl01oCip"
      },
      "execution_count": null,
      "outputs": []
    },
    {
      "cell_type": "markdown",
      "source": [
        "###24. Perform a hypothesis test for population variance using a Chi-square distribution and interpret the results."
      ],
      "metadata": {
        "id": "fttzrBzqoPSZ"
      }
    },
    {
      "cell_type": "code",
      "source": [
        "import numpy as np\n",
        "import scipy.stats as stats\n",
        "\n",
        "# Step 1: Simulate Data from a Normal Distribution\n",
        "np.random.seed(42)\n",
        "sample_size = 30\n",
        "true_variance = 10**2  # Assume true variance is 100\n",
        "sample_data = np.random.normal(loc=50, scale=np.sqrt(true_variance), size=sample_size)\n",
        "\n",
        "# Step 2: Define Hypothesized Variance\n",
        "hypothesized_variance = 90  # Change this value for different tests\n",
        "\n",
        "# Step 3: Calculate Sample Variance\n",
        "sample_variance = np.var(sample_data, ddof=1)  # Unbiased estimate (n-1 in denominator)\n",
        "\n",
        "# Step 4: Compute Chi-square Test Statistic\n",
        "chi2_stat = (sample_size - 1) * sample_variance / hypothesized_variance\n",
        "\n",
        "# Step 5: Compute P-value for a Two-tailed Test\n",
        "p_value = 2 * min(stats.chi2.cdf(chi2_stat, df=sample_size-1),\n",
        "                   1 - stats.chi2.cdf(chi2_stat, df=sample_size-1))\n",
        "\n",
        "# Step 6: Interpret the Results\n",
        "print(\"\\n🔹 Hypothesis Test for Population Variance\")\n",
        "print(f\"Sample Variance: {sample_variance:.4f}\")\n",
        "print(f\"Chi-square Statistic: {chi2_stat:.4f}\")\n",
        "print(f\"P-value: {p_value:.4f}\")\n",
        "\n",
        "alpha = 0.05  # Significance level\n",
        "if p_value < alpha:\n",
        "    print(\"❌ Reject the Null Hypothesis (Variance is significantly different)\")\n",
        "else:\n",
        "    print(\"✅ Fail to Reject the Null Hypothesis (No significant difference)\")"
      ],
      "metadata": {
        "id": "lxAkz-eWoWVp"
      },
      "execution_count": null,
      "outputs": []
    },
    {
      "cell_type": "markdown",
      "source": [
        "###25. Write a Python script to perform a Z-test for comparing proportions between two datasets or groups."
      ],
      "metadata": {
        "id": "XlobbpSXogdB"
      }
    },
    {
      "cell_type": "code",
      "source": [
        "import numpy as np\n",
        "import scipy.stats as stats\n",
        "\n",
        "def z_test_proportions(x1, n1, x2, n2, alpha=0.05):\n",
        "    \"\"\"\n",
        "    Performs a two-tailed Z-test for comparing proportions between two groups.\n",
        "\n",
        "    Parameters:\n",
        "    x1 : int - Number of successes in group 1\n",
        "    n1 : int - Sample size of group 1\n",
        "    x2 : int - Number of successes in group 2\n",
        "    n2 : int - Sample size of group 2\n",
        "    alpha : float - Significance level (default is 0.05)\n",
        "\n",
        "    Returns:\n",
        "    Z-statistic, p-value, and decision based on alpha\n",
        "    \"\"\"\n",
        "    # Sample proportions\n",
        "    p1 = x1 / n1\n",
        "    p2 = x2 / n2\n",
        "\n",
        "    # Pooled proportion\n",
        "    p_hat = (x1 + x2) / (n1 + n2)\n",
        "\n",
        "    # Standard error\n",
        "    se = np.sqrt(p_hat * (1 - p_hat) * (1/n1 + 1/n2))\n",
        "\n",
        "    # Z-test statistic\n",
        "    z_stat = (p1 - p2) / se\n",
        "\n",
        "    # P-value (two-tailed test)\n",
        "    p_value = 2 * (1 - stats.norm.cdf(abs(z_stat)))\n",
        "\n",
        "    # Decision\n",
        "    decision = \"✅ Fail to Reject H₀ (No Significant Difference)\" if p_value > alpha else \"❌ Reject H₀ (Significant Difference)\"\n",
        "\n",
        "    # Print results\n",
        "    print(\"\\n🔹 Z-test for Comparing Proportions\")\n",
        "    print(f\"Proportion 1 (p1): {p1:.4f}\")\n",
        "    print(f\"Proportion 2 (p2): {p2:.4f}\")\n",
        "    print(f\"Pooled Proportion (p̂): {p_hat:.4f}\")\n",
        "    print(f\"Z-statistic: {z_stat:.4f}\")\n",
        "    print(f\"P-value: {p_value:.4f}\")\n",
        "    print(f\"Decision: {decision}\")\n",
        "\n",
        "# Example Usage\n",
        "x1, n1 = 40, 200  # Group 1: 40 successes out of 200 trials\n",
        "x2, n2 = 30, 180  # Group 2: 30 successes out of 180 trials\n",
        "\n",
        "z_test_proportions(x1, n1, x2, n2)"
      ],
      "metadata": {
        "id": "9TO9nj9doo7Q"
      },
      "execution_count": null,
      "outputs": []
    },
    {
      "cell_type": "markdown",
      "source": [
        "###26. Implement an F-test for comparing the variances of two datasets, then interpret and visualize the results."
      ],
      "metadata": {
        "id": "i7RPJuS1o1SX"
      }
    },
    {
      "cell_type": "code",
      "source": [
        "import numpy as np\n",
        "import scipy.stats as stats\n",
        "import matplotlib.pyplot as plt\n",
        "import seaborn as sns\n",
        "\n",
        "def f_test_variances(data1, data2, alpha=0.05):\n",
        "    \"\"\"\n",
        "    Performs an F-test to compare the variances of two datasets.\n",
        "\n",
        "    Parameters:\n",
        "    data1 : array-like - First dataset\n",
        "    data2 : array-like - Second dataset\n",
        "    alpha : float - Significance level (default is 0.05)\n",
        "\n",
        "    Returns:\n",
        "    F-statistic, p-value, and interpretation of the results.\n",
        "    \"\"\"\n",
        "    # Sample variances\n",
        "    var1 = np.var(data1, ddof=1)\n",
        "    var2 = np.var(data2, ddof=1)\n",
        "\n",
        "    # Ensure larger variance is numerator\n",
        "    if var1 > var2:\n",
        "        F_stat = var1 / var2\n",
        "        df1, df2 = len(data1) - 1, len(data2) - 1\n",
        "    else:\n",
        "        F_stat = var2 / var1\n",
        "        df1, df2 = len(data2) - 1, len(data1) - 1\n",
        "\n",
        "    # Compute p-value\n",
        "    p_value = 2 * (1 - stats.f.cdf(F_stat, df1, df2))  # Two-tailed test\n",
        "\n",
        "    # Decision\n",
        "    decision = \"✅ Fail to Reject H₀ (Variances are equal)\" if p_value > alpha else \"❌ Reject H₀ (Variances are different)\"\n",
        "\n",
        "    # Print results\n",
        "    print(\"\\n🔹 F-Test for Comparing Variances\")\n",
        "    print(f\"Variance 1: {var1:.4f}\")\n",
        "    print(f\"Variance 2: {var2:.4f}\")\n",
        "    print(f\"F-statistic: {F_stat:.4f}\")\n",
        "    print(f\"P-value: {p_value:.4f}\")\n",
        "    print(f\"Decision: {decision}\")\n",
        "\n",
        "    # Visualization\n",
        "    plt.figure(figsize=(10, 5))\n",
        "    sns.histplot(data1, color='blue', kde=True, label=\"Dataset 1\")\n",
        "    sns.histplot(data2, color='red', kde=True, label=\"Dataset 2\")\n",
        "    plt.axvline(np.mean(data1), color='blue', linestyle='dashed', label=f\"Mean (Group 1): {np.mean(data1):.2f}\")\n",
        "    plt.axvline(np.mean(data2), color='red', linestyle='dashed', label=f\"Mean (Group 2): {np.mean(data2):.2f}\")\n",
        "    plt.legend()\n",
        "    plt.title(\"Comparison of Two Distributions\")\n",
        "    plt.xlabel(\"Value\")\n",
        "    plt.ylabel(\"Density\")\n",
        "    plt.show()\n",
        "\n",
        "# Example Usage (Simulated Data)\n",
        "np.random.seed(42)\n",
        "data1 = np.random.normal(loc=50, scale=10, size=30)  # Mean=50, Std=10\n",
        "data2 = np.random.normal(loc=50, scale=15, size=30)  # Mean=50, Std=15\n",
        "\n",
        "f_test_variances(data1, data2)"
      ],
      "metadata": {
        "id": "DeNKG4rOo6mX"
      },
      "execution_count": null,
      "outputs": []
    },
    {
      "cell_type": "markdown",
      "source": [
        "###27. Perform a Chi-square test for goodness of fit with simulated data and analyze the results."
      ],
      "metadata": {
        "id": "24lxkiZRpD1G"
      }
    },
    {
      "cell_type": "code",
      "source": [
        "import numpy as np\n",
        "import scipy.stats as stats\n",
        "import matplotlib.pyplot as plt\n",
        "\n",
        "def chi_square_goodness_of_fit(observed, expected, alpha=0.05):\n",
        "    \"\"\"\n",
        "    Performs a Chi-square goodness of fit test.\n",
        "\n",
        "    Parameters:\n",
        "    observed : array-like - Observed frequencies\n",
        "    expected : array-like - Expected frequencies\n",
        "    alpha : float - Significance level (default is 0.05)\n",
        "\n",
        "    Returns:\n",
        "    Chi-square statistic, p-value, and decision interpretation.\n",
        "    \"\"\"\n",
        "    # Compute Chi-square statistic and p-value\n",
        "    chi2_stat, p_value = stats.chisquare(observed, expected)\n",
        "\n",
        "    # Decision rule\n",
        "    decision = \"✅ Fail to Reject H₀ (Observed data follows expected distribution)\" \\\n",
        "        if p_value > alpha else \"❌ Reject H₀ (Observed data does NOT follow expected distribution)\"\n",
        "\n",
        "    # Print results\n",
        "    print(\"\\n🔹 Chi-Square Goodness of Fit Test\")\n",
        "    print(f\"Observed Frequencies: {observed}\")\n",
        "    print(f\"Expected Frequencies: {expected}\")\n",
        "    print(f\"Chi-square Statistic: {chi2_stat:.4f}\")\n",
        "    print(f\"P-value: {p_value:.4f}\")\n",
        "    print(f\"Decision: {decision}\")\n",
        "\n",
        "    # Visualization\n",
        "    categories = range(len(observed))\n",
        "    width = 0.4\n",
        "\n",
        "    plt.bar(categories, observed, width, label=\"Observed\", color='blue', alpha=0.6)\n",
        "    plt.bar([x + width for x in categories], expected, width, label=\"Expected\", color='red', alpha=0.6)\n",
        "\n",
        "    plt.xlabel(\"Categories\")\n",
        "    plt.ylabel(\"Frequency\")\n",
        "    plt.xticks(categories)\n",
        "    plt.legend()\n",
        "    plt.title(\"Chi-Square Goodness of Fit: Observed vs Expected\")\n",
        "    plt.show()\n",
        "\n",
        "# Example Usage (Simulated Data)\n",
        "np.random.seed(42)\n",
        "observed_counts = np.random.randint(20, 50, size=5)  # Random observed counts in 5 categories\n",
        "expected_counts = np.array([30, 35, 40, 45, 50])  # Expected distribution\n",
        "\n",
        "chi_square_goodness_of_fit(observed_counts, expected_counts)"
      ],
      "metadata": {
        "id": "RL4jY_vWpMuG"
      },
      "execution_count": null,
      "outputs": []
    }
  ]
}